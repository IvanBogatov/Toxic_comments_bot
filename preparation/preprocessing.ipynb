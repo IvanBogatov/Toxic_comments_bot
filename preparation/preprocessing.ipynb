{
 "cells": [
  {
   "cell_type": "code",
   "execution_count": 1,
   "metadata": {},
   "outputs": [],
   "source": [
    "import pandas as pd\n",
    "\n",
    "from nltk.corpus import stopwords\n",
    "from nltk.stem import SnowballStemmer\n",
    "from nltk.tokenize import WhitespaceTokenizer"
   ]
  },
  {
   "cell_type": "code",
   "execution_count": 2,
   "metadata": {},
   "outputs": [],
   "source": [
    "df = pd.read_csv('data/labeled.csv')"
   ]
  },
  {
   "cell_type": "code",
   "execution_count": 3,
   "metadata": {},
   "outputs": [],
   "source": [
    "def clean(text):\n",
    "    \"\"\"\n",
    "    Clear comments from urls, digits and special symbols.\n",
    "    \"\"\"\n",
    "    text = text.str.lower()\n",
    "    text = text.str.replace('http\\S+|http.\\S+', '', case=False, regex=True)\n",
    "    text = text.str.replace('\\d+', ' ', regex=True)\n",
    "    text = text.str.replace('[^\\w\\s]',' ', regex=True)\n",
    "    text = text.str.replace(r'[\\n]',' ', regex=True)\n",
    "    return text\n",
    "\n",
    "tokenizing = WhitespaceTokenizer()\n",
    "stemming = SnowballStemmer(\"russian\")\n",
    "\n",
    "def prepare_text(text):\n",
    "    \"\"\"\n",
    "    Change comments with stemming, tokenizating and dropping stop words.\n",
    "    \"\"\"\n",
    "    sw = stopwords.words('russian')\n",
    "    clean_tokenized_text = [] \n",
    "    for raw in text:\n",
    "        clean_tokenized_text.append(' '.join([stemming.stem(word) for word in tokenizing.tokenize(raw) if word not in sw]))\n",
    "    return clean_tokenized_text"
   ]
  },
  {
   "cell_type": "code",
   "execution_count": 4,
   "metadata": {},
   "outputs": [],
   "source": [
    "df.comment = prepare_text(clean(df.comment)) # Update data"
   ]
  },
  {
   "cell_type": "code",
   "execution_count": 5,
   "metadata": {},
   "outputs": [],
   "source": [
    "df = df[df.comment != ''] # Drop empty raws"
   ]
  },
  {
   "cell_type": "code",
   "execution_count": 6,
   "metadata": {},
   "outputs": [],
   "source": [
    "df.to_csv('data/labeled_clean.csv', index=False) # Save cleaned data"
   ]
  }
 ],
 "metadata": {
  "kernelspec": {
   "display_name": "base",
   "language": "python",
   "name": "python3"
  },
  "language_info": {
   "codemirror_mode": {
    "name": "ipython",
    "version": 3
   },
   "file_extension": ".py",
   "mimetype": "text/x-python",
   "name": "python",
   "nbconvert_exporter": "python",
   "pygments_lexer": "ipython3",
   "version": "3.10.8"
  },
  "orig_nbformat": 4
 },
 "nbformat": 4,
 "nbformat_minor": 2
}
